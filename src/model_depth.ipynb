{
 "cells": [
  {
   "cell_type": "markdown",
   "metadata": {},
   "source": [
    "## Model with multiple Depth"
   ]
  },
  {
   "cell_type": "code",
   "execution_count": 6,
   "metadata": {},
   "outputs": [],
   "source": [
    "from model_zoo.models import AutoEncoder\n",
    "from utils.utils import load_config\n",
    "import torch"
   ]
  },
  {
   "cell_type": "markdown",
   "metadata": {},
   "source": [
    "## Open a model "
   ]
  },
  {
   "cell_type": "code",
   "execution_count": 15,
   "metadata": {},
   "outputs": [],
   "source": [
    "path_dir = \"/home/ubuntu/project/sentinel-2-ai-compressor/src/results/2025-08-10_09-30-54\"\n",
    "\n",
    "weights_path = f\"{path_dir}/checkpoints/best_model.pth\"\n",
    "config = load_config(config_path=f\"{path_dir}/config.yaml\")\n",
    "\n",
    "model = AutoEncoder(\n",
    "            in_channels=len(config['DATASET']['bands']),\n",
    "            out_channels=len(config['DATASET']['bands']),\n",
    "            base_channels=config['MODEL']['base_channels'],\n",
    "            depth=config['MODEL']['depth'],\n",
    "            bottleneck_factor=config['MODEL']['bottleneck_factor'],\n",
    "        )"
   ]
  },
  {
   "cell_type": "code",
   "execution_count": 16,
   "metadata": {},
   "outputs": [
    {
     "name": "stdout",
     "output_type": "stream",
     "text": [
      "Total parameters: 118,813,871\n",
      "Trainable parameters: 118,813,871\n",
      "Model size: 453.2 MB (float32)\n",
      "\n",
      "Architecture:\n",
      "Channel progression: [3, 64, 128, 256, 512, 1024, 1024, 1024]\n",
      "Bottleneck channels: 512\n",
      "Bottleneck: torch.Size([1, 1024, 8, 8])\n",
      "Output: torch.Size([1, 3, 1024, 1024])\n",
      "\n",
      "Compression Analysis:\n",
      "Input: 3,145,728 elements\n",
      "Bottleneck: 65,536 elements\n",
      "Compression ratio: 48.00x\n",
      "Size reduction: 97.9%\n",
      "\n",
      "Memory usage:\n",
      "Input: 12.0 MB\n",
      "Bottleneck: 0.2 MB\n"
     ]
    }
   ],
   "source": [
    "# Count parameters\n",
    "total_params, trainable_params = model.count_parameters()\n",
    "print(f\"Total parameters: {total_params:,}\")\n",
    "print(f\"Trainable parameters: {trainable_params:,}\")\n",
    "print(f\"Model size: {total_params * 4 / (1024**2):.1f} MB (float32)\")\n",
    "\n",
    "# Test forward pass\n",
    "model.eval()\n",
    "with torch.no_grad():\n",
    "    # Radar input tensor\n",
    "    x = torch.randn(1, 3, 1024, 1024)\n",
    "    output  = model(x)\n",
    "\n",
    "    # Compression analysis\n",
    "    bottleneck = model.get_bottleneck_tensor()\n",
    "    compression_info = model.get_compression_info(x, bottleneck)\n",
    "\n",
    "    print(f\"\\nArchitecture:\")\n",
    "    print(f\"Channel progression: {model.channel_progression}\")\n",
    "    print(f\"Bottleneck channels: {model.bottleneck_channels}\")\n",
    "\n",
    "    print(f\"Bottleneck: {bottleneck.shape}\")\n",
    "    print(f\"Output: {output.shape}\")\n",
    "\n",
    "    print(f\"\\nCompression Analysis:\")\n",
    "    print(f\"Input: {compression_info['input_elements']:,} elements\")\n",
    "    print(f\"Bottleneck: {compression_info['bottleneck_elements']:,} elements\")\n",
    "    print(f\"Compression ratio: {compression_info['compression_ratio']:.2f}x\")\n",
    "    print(f\"Size reduction: {compression_info['reduction_percent']:.1f}%\")\n",
    "\n",
    "    # Memory usage\n",
    "    input_mb = compression_info['input_elements'] * 4 / (1024**2)\n",
    "    bottleneck_mb = compression_info['bottleneck_elements'] * 4 / (1024**2)\n",
    "    print(f\"\\nMemory usage:\")\n",
    "    print(f\"Input: {input_mb:.1f} MB\")\n",
    "    print(f\"Bottleneck: {bottleneck_mb:.1f} MB\")"
   ]
  },
  {
   "cell_type": "code",
   "execution_count": null,
   "metadata": {},
   "outputs": [],
   "source": []
  },
  {
   "cell_type": "code",
   "execution_count": null,
   "metadata": {},
   "outputs": [],
   "source": []
  }
 ],
 "metadata": {
  "kernelspec": {
   "display_name": "ai_processor",
   "language": "python",
   "name": "python3"
  },
  "language_info": {
   "codemirror_mode": {
    "name": "ipython",
    "version": 3
   },
   "file_extension": ".py",
   "mimetype": "text/x-python",
   "name": "python",
   "nbconvert_exporter": "python",
   "pygments_lexer": "ipython3",
   "version": "3.12.2"
  }
 },
 "nbformat": 4,
 "nbformat_minor": 4
}
